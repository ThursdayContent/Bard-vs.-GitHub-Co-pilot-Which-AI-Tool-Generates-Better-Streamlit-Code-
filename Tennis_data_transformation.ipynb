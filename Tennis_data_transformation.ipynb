{
 "cells": [
  {
   "cell_type": "code",
   "execution_count": 1,
   "id": "8334b652",
   "metadata": {},
   "outputs": [],
   "source": [
    "import streamlit as st\n",
    "import pandas as pd\n",
    "import numpy as np\n",
    "import matplotlib.pyplot as plt\n",
    "import hashlib"
   ]
  },
  {
   "cell_type": "code",
   "execution_count": 2,
   "id": "734f9b38",
   "metadata": {},
   "outputs": [
    {
     "data": {
      "text/plain": [
       "Index(['tourney_id', 'tourney_name', 'surface', 'draw_size', 'tourney_level',\n",
       "       'tourney_date', 'year', 'month', 'day', 'date', 'match_num',\n",
       "       'winner_id', 'winner_seed', 'winner_entry', 'winner_name',\n",
       "       'winner_hand', 'winner_ht', 'winner_ioc', 'winner_age', 'loser_id',\n",
       "       'loser_seed', 'loser_entry', 'loser_name', 'loser_hand', 'loser_ht',\n",
       "       'loser_ioc', 'loser_age', 'score', 'best_of', 'round', 'minutes',\n",
       "       'w_ace', 'w_df', 'w_svpt', 'w_1stIn', 'w_1stWon', 'w_2ndWon', 'w_SvGms',\n",
       "       'w_bpSaved', 'w_bpFaced', 'l_ace', 'l_df', 'l_svpt', 'l_1stIn',\n",
       "       'l_1stWon', 'l_2ndWon', 'l_SvGms', 'l_bpSaved', 'l_bpFaced',\n",
       "       'winner_rank', 'winner_rank_points', 'loser_rank', 'loser_rank_points',\n",
       "       'total_points_won'],\n",
       "      dtype='object')"
      ]
     },
     "execution_count": 2,
     "metadata": {},
     "output_type": "execute_result"
    }
   ],
   "source": [
    "# Load the tennis games dataset\n",
    "df = pd.read_excel('tennis_stats.xlsx')\n",
    "df.columns"
   ]
  },
  {
   "cell_type": "code",
   "execution_count": 3,
   "id": "76d52cab",
   "metadata": {},
   "outputs": [
    {
     "data": {
      "text/plain": [
       "0       a64401f5271dbe5ab98e2fe1a04d7638\n",
       "1       ed9e3ddc423245f3ccdc30f1c852e6ed\n",
       "2       dbdbc156f2480cb5e8c598f88a83f9e0\n",
       "3       a5635a56de1b83ea528e4adfd48f1df5\n",
       "4       8a0de8e81465935e53e3158a0282cd5a\n",
       "                      ...               \n",
       "2912    f520c33f73caed6593ea3e19d912f935\n",
       "2913    c5e51a5813c6776536d2f3192b56ea42\n",
       "2914    f34c09cfcecdf5900c40e84957dd9da4\n",
       "2915    c7e65dd5419640d0ba604c9b8018e5fc\n",
       "2916    91778bfe9b6cd23b78d3efeb9803a4da\n",
       "Name: unique_match_num, Length: 2917, dtype: object"
      ]
     },
     "execution_count": 3,
     "metadata": {},
     "output_type": "execute_result"
    }
   ],
   "source": [
    "def create_unique_hashkey(df):\n",
    "    df['unique_match_num'] = df.apply(lambda row: hashlib.md5(row.astype(str).to_string().encode('utf-8')).hexdigest(), axis=1)\n",
    "    return df['unique_match_num']\n",
    "\n",
    "create_unique_hashkey(df)"
   ]
  },
  {
   "cell_type": "code",
   "execution_count": 4,
   "id": "c147c09b",
   "metadata": {},
   "outputs": [
    {
     "data": {
      "text/plain": [
       "Index(['tourney_id', 'tourney_name', 'surface', 'draw_size', 'tourney_level',\n",
       "       'tourney_date', 'year', 'month', 'day', 'date', 'match_num',\n",
       "       'winner_id', 'winner_seed', 'winner_entry', 'winner_name',\n",
       "       'winner_hand', 'winner_ht', 'winner_ioc', 'winner_age', 'loser_id',\n",
       "       'loser_seed', 'loser_entry', 'loser_name', 'loser_hand', 'loser_ht',\n",
       "       'loser_ioc', 'loser_age', 'score', 'best_of', 'round', 'minutes',\n",
       "       'w_ace', 'w_df', 'w_svpt', 'w_1stIn', 'w_1stWon', 'w_2ndWon', 'w_SvGms',\n",
       "       'w_bpSaved', 'w_bpFaced', 'l_ace', 'l_df', 'l_svpt', 'l_1stIn',\n",
       "       'l_1stWon', 'l_2ndWon', 'l_SvGms', 'l_bpSaved', 'l_bpFaced',\n",
       "       'winner_rank', 'winner_rank_points', 'loser_rank', 'loser_rank_points',\n",
       "       'total_points_won', 'unique_match_num'],\n",
       "      dtype='object')"
      ]
     },
     "execution_count": 4,
     "metadata": {},
     "output_type": "execute_result"
    }
   ],
   "source": [
    "df.columns"
   ]
  },
  {
   "cell_type": "code",
   "execution_count": 5,
   "id": "18c3ccb4",
   "metadata": {},
   "outputs": [],
   "source": [
    "# def segregate_columns(df):\n",
    "winner_df = df[['unique_match_num', 'tourney_id', 'tourney_name', 'surface', 'draw_size', 'tourney_level', \n",
    "                'date', 'match_num', 'winner_id', 'winner_seed', 'winner_entry', 'winner_name', 'winner_hand', \n",
    "                'winner_ht', 'winner_ioc', 'winner_age', 'w_ace', 'w_df', 'w_svpt', 'w_1stIn', 'w_1stWon', \n",
    "                'w_2ndWon', 'w_SvGms', 'w_bpSaved', 'w_bpFaced', 'winner_rank', 'winner_rank_points', 'winner_rank_points']]\n",
    "loser_df = df[['unique_match_num', 'tourney_id', 'tourney_name', 'surface', 'draw_size', 'tourney_level', \n",
    "                'date', 'match_num', 'loser_id', 'loser_seed', 'loser_entry', 'loser_name', 'loser_hand', \n",
    "                'loser_ht', 'loser_ioc', 'loser_age', 'l_ace', 'l_df', 'l_svpt', 'l_1stIn', 'l_1stWon', 'l_2ndWon', \n",
    "                'l_SvGms', 'l_bpSaved', 'l_bpFaced', 'loser_rank', 'loser_rank_points', 'loser_rank_points']]"
   ]
  },
  {
   "cell_type": "code",
   "execution_count": 6,
   "id": "236e6d75",
   "metadata": {
    "collapsed": true
   },
   "outputs": [
    {
     "name": "stderr",
     "output_type": "stream",
     "text": [
      "/var/folders/4t/lbmg541x4zn1k47gf6l8zpl40000gn/T/ipykernel_40529/2321205527.py:1: SettingWithCopyWarning: \n",
      "A value is trying to be set on a copy of a slice from a DataFrame.\n",
      "Try using .loc[row_indexer,col_indexer] = value instead\n",
      "\n",
      "See the caveats in the documentation: https://pandas.pydata.org/pandas-docs/stable/user_guide/indexing.html#returning-a-view-versus-a-copy\n",
      "  winner_df[\"winner\"] = 1\n",
      "/var/folders/4t/lbmg541x4zn1k47gf6l8zpl40000gn/T/ipykernel_40529/2321205527.py:2: SettingWithCopyWarning: \n",
      "A value is trying to be set on a copy of a slice from a DataFrame.\n",
      "Try using .loc[row_indexer,col_indexer] = value instead\n",
      "\n",
      "See the caveats in the documentation: https://pandas.pydata.org/pandas-docs/stable/user_guide/indexing.html#returning-a-view-versus-a-copy\n",
      "  loser_df[\"winner\"] = 0\n"
     ]
    }
   ],
   "source": [
    "winner_df[\"winner\"] = 1\n",
    "loser_df[\"winner\"] = 0 "
   ]
  },
  {
   "cell_type": "code",
   "execution_count": 7,
   "id": "8dfaa747",
   "metadata": {},
   "outputs": [],
   "source": [
    "loser_df.columns = winner_df.columns"
   ]
  },
  {
   "cell_type": "code",
   "execution_count": 8,
   "id": "4ea0d16d",
   "metadata": {},
   "outputs": [],
   "source": [
    "df_merged = pd.concat([winner_df, loser_df])"
   ]
  },
  {
   "cell_type": "code",
   "execution_count": 9,
   "id": "50ef0ab6",
   "metadata": {},
   "outputs": [],
   "source": [
    "df_merged.columns = ['unique_match_num', 'tourney_id', 'tourney_name', 'surface','draw_size', 'tourney_level', \n",
    "                    'date', 'match_num', 'player_id', 'player_seed', 'player_entry', 'player_name', 'player_hand',\n",
    "                    'player_ht', 'player_ioc', 'player_age', 'aces', 'double_faults', 'svpt', '1stIn', '1stWon', \n",
    "                    '2ndWon', 'SvGms', 'bpSaved', 'bpFaced', 'player_rank', 'player_rank_points', \n",
    "                    'points_won', 'winner']"
   ]
  },
  {
   "cell_type": "code",
   "execution_count": 10,
   "id": "419f733c",
   "metadata": {},
   "outputs": [],
   "source": [
    "df_merged.to_excel(\"df_merged.xlsx\")"
   ]
  },
  {
   "cell_type": "code",
   "execution_count": 11,
   "id": "79c7e007",
   "metadata": {},
   "outputs": [
    {
     "name": "stdout",
     "output_type": "stream",
     "text": [
      "Select date: 03/01/2022\n",
      "Select match: a64401f5271dbe5ab98e2fe1a04d7638\n",
      "0    Felix Auger Aliassime\n",
      "Name: player_name, dtype: object\n"
     ]
    }
   ],
   "source": [
    "df = pd.read_csv(\"tennis_merged.csv\", parse_dates=['date'], dayfirst=True)\n",
    "df['date'] = df['date'].dt.strftime('%d/%m/%Y')\n",
    "\n",
    "# Date selection\n",
    "date_select = input('Select date: ')\n",
    "\n",
    "# Match selection\n",
    "match_select = input('Select match: ')\n",
    "\n",
    "# Filter the data based on the sidebar selections\n",
    "filtered_df = df[df['date'] == date_select]\n",
    "filtered_df = filtered_df[filtered_df['unique_match_num'] == match_select]\n",
    "\n",
    "filtered_df\n",
    "\n",
    "\n",
    "#Determine the winner and loser of the match\n",
    "winner = filtered_df[filtered_df['winner'] == 1]['player_name']\n",
    "loser = filtered_df[filtered_df['winner'] == 0]['player_name']\n",
    "\n",
    "print(winner)"
   ]
  },
  {
   "cell_type": "code",
   "execution_count": 12,
   "id": "f97caca8",
   "metadata": {},
   "outputs": [
    {
     "data": {
      "text/html": [
       "<div>\n",
       "<style scoped>\n",
       "    .dataframe tbody tr th:only-of-type {\n",
       "        vertical-align: middle;\n",
       "    }\n",
       "\n",
       "    .dataframe tbody tr th {\n",
       "        vertical-align: top;\n",
       "    }\n",
       "\n",
       "    .dataframe thead th {\n",
       "        text-align: right;\n",
       "    }\n",
       "</style>\n",
       "<table border=\"1\" class=\"dataframe\">\n",
       "  <thead>\n",
       "    <tr style=\"text-align: right;\">\n",
       "      <th></th>\n",
       "      <th>Unnamed: 0</th>\n",
       "      <th>unique_match_num</th>\n",
       "      <th>tourney_id</th>\n",
       "      <th>tourney_name</th>\n",
       "      <th>surface</th>\n",
       "      <th>draw_size</th>\n",
       "      <th>tourney_level</th>\n",
       "      <th>date</th>\n",
       "      <th>match_num</th>\n",
       "      <th>player_id</th>\n",
       "      <th>...</th>\n",
       "      <th>1stIn</th>\n",
       "      <th>1stWon</th>\n",
       "      <th>2ndWon</th>\n",
       "      <th>SvGms</th>\n",
       "      <th>bpSaved</th>\n",
       "      <th>bpFaced</th>\n",
       "      <th>player_rank</th>\n",
       "      <th>player_rank_points</th>\n",
       "      <th>total_points_won</th>\n",
       "      <th>winner</th>\n",
       "    </tr>\n",
       "  </thead>\n",
       "  <tbody>\n",
       "    <tr>\n",
       "      <th>0</th>\n",
       "      <td>0</td>\n",
       "      <td>a64401f5271dbe5ab98e2fe1a04d7638</td>\n",
       "      <td>2022-8888</td>\n",
       "      <td>Atp Cup</td>\n",
       "      <td>Hard</td>\n",
       "      <td>16</td>\n",
       "      <td>A</td>\n",
       "      <td>03/01/2022</td>\n",
       "      <td>300</td>\n",
       "      <td>200000</td>\n",
       "      <td>...</td>\n",
       "      <td>51.0</td>\n",
       "      <td>38.0</td>\n",
       "      <td>14.0</td>\n",
       "      <td>11.0</td>\n",
       "      <td>10.0</td>\n",
       "      <td>11.0</td>\n",
       "      <td>11.0</td>\n",
       "      <td>3308.0</td>\n",
       "      <td>119</td>\n",
       "      <td>1</td>\n",
       "    </tr>\n",
       "    <tr>\n",
       "      <th>2917</th>\n",
       "      <td>0</td>\n",
       "      <td>a64401f5271dbe5ab98e2fe1a04d7638</td>\n",
       "      <td>2022-8888</td>\n",
       "      <td>Atp Cup</td>\n",
       "      <td>Hard</td>\n",
       "      <td>16</td>\n",
       "      <td>A</td>\n",
       "      <td>03/01/2022</td>\n",
       "      <td>300</td>\n",
       "      <td>105138</td>\n",
       "      <td>...</td>\n",
       "      <td>50.0</td>\n",
       "      <td>32.0</td>\n",
       "      <td>7.0</td>\n",
       "      <td>10.0</td>\n",
       "      <td>3.0</td>\n",
       "      <td>5.0</td>\n",
       "      <td>19.0</td>\n",
       "      <td>2260.0</td>\n",
       "      <td>119</td>\n",
       "      <td>0</td>\n",
       "    </tr>\n",
       "  </tbody>\n",
       "</table>\n",
       "<p>2 rows × 30 columns</p>\n",
       "</div>"
      ],
      "text/plain": [
       "      Unnamed: 0                  unique_match_num tourney_id tourney_name  \\\n",
       "0              0  a64401f5271dbe5ab98e2fe1a04d7638  2022-8888      Atp Cup   \n",
       "2917           0  a64401f5271dbe5ab98e2fe1a04d7638  2022-8888      Atp Cup   \n",
       "\n",
       "     surface  draw_size tourney_level        date  match_num  player_id  ...  \\\n",
       "0       Hard         16             A  03/01/2022        300     200000  ...   \n",
       "2917    Hard         16             A  03/01/2022        300     105138  ...   \n",
       "\n",
       "      1stIn 1stWon 2ndWon SvGms  bpSaved bpFaced  player_rank  \\\n",
       "0      51.0   38.0   14.0  11.0     10.0    11.0         11.0   \n",
       "2917   50.0   32.0    7.0  10.0      3.0     5.0         19.0   \n",
       "\n",
       "      player_rank_points  total_points_won  winner  \n",
       "0                 3308.0               119       1  \n",
       "2917              2260.0               119       0  \n",
       "\n",
       "[2 rows x 30 columns]"
      ]
     },
     "execution_count": 12,
     "metadata": {},
     "output_type": "execute_result"
    }
   ],
   "source": [
    "filtered_df.head(2)"
   ]
  },
  {
   "cell_type": "code",
   "execution_count": 13,
   "id": "7151d036",
   "metadata": {},
   "outputs": [],
   "source": [
    "win = filtered_df[filtered_df[\"winner\"] == 1][\"player_name\"].iloc[0]"
   ]
  },
  {
   "cell_type": "code",
   "execution_count": 14,
   "id": "4c90700a",
   "metadata": {},
   "outputs": [
    {
     "data": {
      "text/plain": [
       "'Felix Auger Aliassime'"
      ]
     },
     "execution_count": 14,
     "metadata": {},
     "output_type": "execute_result"
    }
   ],
   "source": [
    "win"
   ]
  },
  {
   "cell_type": "code",
   "execution_count": 15,
   "id": "63a34d26",
   "metadata": {},
   "outputs": [],
   "source": [
    "run = filtered_df[filtered_df[\"winner\"] == 0][\"player_name\"].iloc[0]"
   ]
  },
  {
   "cell_type": "code",
   "execution_count": 16,
   "id": "07d5c51d",
   "metadata": {},
   "outputs": [
    {
     "data": {
      "text/plain": [
       "'Roberto Bautista Agut'"
      ]
     },
     "execution_count": 16,
     "metadata": {},
     "output_type": "execute_result"
    }
   ],
   "source": [
    "run"
   ]
  },
  {
   "cell_type": "code",
   "execution_count": null,
   "id": "9de98268",
   "metadata": {},
   "outputs": [],
   "source": []
  }
 ],
 "metadata": {
  "hide_input": false,
  "kernelspec": {
   "display_name": "Python 3 (ipykernel)",
   "language": "python",
   "name": "python3"
  },
  "language_info": {
   "codemirror_mode": {
    "name": "ipython",
    "version": 3
   },
   "file_extension": ".py",
   "mimetype": "text/x-python",
   "name": "python",
   "nbconvert_exporter": "python",
   "pygments_lexer": "ipython3",
   "version": "3.9.13"
  },
  "varInspector": {
   "cols": {
    "lenName": 16,
    "lenType": 16,
    "lenVar": 40
   },
   "kernels_config": {
    "python": {
     "delete_cmd_postfix": "",
     "delete_cmd_prefix": "del ",
     "library": "var_list.py",
     "varRefreshCmd": "print(var_dic_list())"
    },
    "r": {
     "delete_cmd_postfix": ") ",
     "delete_cmd_prefix": "rm(",
     "library": "var_list.r",
     "varRefreshCmd": "cat(var_dic_list()) "
    }
   },
   "types_to_exclude": [
    "module",
    "function",
    "builtin_function_or_method",
    "instance",
    "_Feature"
   ],
   "window_display": false
  }
 },
 "nbformat": 4,
 "nbformat_minor": 5
}
